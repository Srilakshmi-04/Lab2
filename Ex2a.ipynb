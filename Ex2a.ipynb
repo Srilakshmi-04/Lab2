{
 "cells": [
  {
   "cell_type": "markdown",
   "id": "6afc3208-1ff4-4042-b78b-a0c295da274a",
   "metadata": {
    "id": "6afc3208-1ff4-4042-b78b-a0c295da274a"
   },
   "source": [
    "### Perform various data preprocessing techniques like handling missing data and feature scaling."
   ]
  },
  {
   "cell_type": "markdown",
   "id": "6eff2117-8474-49a1-b110-b2f24b7b6e13",
   "metadata": {
    "id": "6eff2117-8474-49a1-b110-b2f24b7b6e13"
   },
   "source": [
    "#### step 1: Start by importing the necessary Python libraries for data preprocessing.\n"
   ]
  },
  {
   "cell_type": "code",
   "execution_count": 9,
   "id": "e451344d-0f8e-46aa-9b43-ebb7e2addfbd",
   "metadata": {
    "id": "e451344d-0f8e-46aa-9b43-ebb7e2addfbd"
   },
   "outputs": [],
   "source": [
    "import pandas as pd\n",
    "import numpy as np\n",
    "from sklearn.preprocessing import StandardScaler, MinMaxScaler"
   ]
  },
  {
   "cell_type": "markdown",
   "id": "fac9560b-1b46-4e27-92aa-98098e292d23",
   "metadata": {
    "id": "fac9560b-1b46-4e27-92aa-98098e292d23"
   },
   "source": [
    "#### Step 2: Load the placement dataset into a Pandas Dataframe."
   ]
  },
  {
   "cell_type": "code",
   "execution_count": 17,
   "id": "9c82f185-426d-4d70-b74d-d06a11306492",
   "metadata": {
    "id": "9c82f185-426d-4d70-b74d-d06a11306492",
    "outputId": "0a3b6b38-139e-414b-d690-70d9e278db05"
   },
   "outputs": [
    {
     "data": {
      "text/html": [
       "<div>\n",
       "<style scoped>\n",
       "    .dataframe tbody tr th:only-of-type {\n",
       "        vertical-align: middle;\n",
       "    }\n",
       "\n",
       "    .dataframe tbody tr th {\n",
       "        vertical-align: top;\n",
       "    }\n",
       "\n",
       "    .dataframe thead th {\n",
       "        text-align: right;\n",
       "    }\n",
       "</style>\n",
       "<table border=\"1\" class=\"dataframe\">\n",
       "  <thead>\n",
       "    <tr style=\"text-align: right;\">\n",
       "      <th></th>\n",
       "      <th>name</th>\n",
       "      <th>mpg</th>\n",
       "      <th>cylinders</th>\n",
       "      <th>displacement</th>\n",
       "      <th>horsepower</th>\n",
       "      <th>weight</th>\n",
       "      <th>acceleration</th>\n",
       "      <th>model_year</th>\n",
       "      <th>origin</th>\n",
       "    </tr>\n",
       "  </thead>\n",
       "  <tbody>\n",
       "    <tr>\n",
       "      <th>0</th>\n",
       "      <td>chevrolet chevelle malibu</td>\n",
       "      <td>18.0</td>\n",
       "      <td>8.0</td>\n",
       "      <td>307.0</td>\n",
       "      <td>130.0</td>\n",
       "      <td>3504.0</td>\n",
       "      <td>12.0</td>\n",
       "      <td>70</td>\n",
       "      <td>usa</td>\n",
       "    </tr>\n",
       "    <tr>\n",
       "      <th>1</th>\n",
       "      <td>buick skylark 320</td>\n",
       "      <td>15.0</td>\n",
       "      <td>8.0</td>\n",
       "      <td>350.0</td>\n",
       "      <td>165.0</td>\n",
       "      <td>3693.0</td>\n",
       "      <td>11.5</td>\n",
       "      <td>70</td>\n",
       "      <td>usa</td>\n",
       "    </tr>\n",
       "    <tr>\n",
       "      <th>2</th>\n",
       "      <td>plymouth satellite</td>\n",
       "      <td>18.0</td>\n",
       "      <td>8.0</td>\n",
       "      <td>318.0</td>\n",
       "      <td>150.0</td>\n",
       "      <td>3436.0</td>\n",
       "      <td>11.0</td>\n",
       "      <td>70</td>\n",
       "      <td>usa</td>\n",
       "    </tr>\n",
       "    <tr>\n",
       "      <th>3</th>\n",
       "      <td>amc rebel sst</td>\n",
       "      <td>16.0</td>\n",
       "      <td>8.0</td>\n",
       "      <td>304.0</td>\n",
       "      <td>150.0</td>\n",
       "      <td>3433.0</td>\n",
       "      <td>12.0</td>\n",
       "      <td>70</td>\n",
       "      <td>usa</td>\n",
       "    </tr>\n",
       "    <tr>\n",
       "      <th>4</th>\n",
       "      <td>ford torino</td>\n",
       "      <td>17.0</td>\n",
       "      <td>NaN</td>\n",
       "      <td>302.0</td>\n",
       "      <td>140.0</td>\n",
       "      <td>3449.0</td>\n",
       "      <td>10.5</td>\n",
       "      <td>70</td>\n",
       "      <td>usa</td>\n",
       "    </tr>\n",
       "  </tbody>\n",
       "</table>\n",
       "</div>"
      ],
      "text/plain": [
       "                        name   mpg  cylinders  displacement  horsepower  \\\n",
       "0  chevrolet chevelle malibu  18.0        8.0         307.0       130.0   \n",
       "1          buick skylark 320  15.0        8.0         350.0       165.0   \n",
       "2         plymouth satellite  18.0        8.0         318.0       150.0   \n",
       "3              amc rebel sst  16.0        8.0         304.0       150.0   \n",
       "4                ford torino  17.0        NaN         302.0       140.0   \n",
       "\n",
       "   weight  acceleration  model_year origin  \n",
       "0  3504.0          12.0          70    usa  \n",
       "1  3693.0          11.5          70    usa  \n",
       "2  3436.0          11.0          70    usa  \n",
       "3  3433.0          12.0          70    usa  \n",
       "4  3449.0          10.5          70    usa  "
      ]
     },
     "execution_count": 17,
     "metadata": {},
     "output_type": "execute_result"
    }
   ],
   "source": [
    "df=pd.read_csv(\"Automobile.csv\")\n",
    "df.head()"
   ]
  },
  {
   "cell_type": "markdown",
   "id": "28b184ae-6e01-44d7-829d-11b3e9f0375f",
   "metadata": {
    "id": "28b184ae-6e01-44d7-829d-11b3e9f0375f"
   },
   "source": [
    "#### Step 3:Take a quick look at the data to understand its structure and identify any missing values or anomalies."
   ]
  },
  {
   "cell_type": "code",
   "execution_count": 18,
   "id": "8aceae47-8c25-4b9e-b77d-c902b464458f",
   "metadata": {
    "id": "8aceae47-8c25-4b9e-b77d-c902b464458f",
    "outputId": "504eb27e-aa95-4b97-9b95-741f76f27f7d"
   },
   "outputs": [
    {
     "name": "stdout",
     "output_type": "stream",
     "text": [
      "<class 'pandas.core.frame.DataFrame'>\n",
      "RangeIndex: 398 entries, 0 to 397\n",
      "Data columns (total 9 columns):\n",
      " #   Column        Non-Null Count  Dtype  \n",
      "---  ------        --------------  -----  \n",
      " 0   name          398 non-null    object \n",
      " 1   mpg           398 non-null    float64\n",
      " 2   cylinders     395 non-null    float64\n",
      " 3   displacement  395 non-null    float64\n",
      " 4   horsepower    386 non-null    float64\n",
      " 5   weight        396 non-null    float64\n",
      " 6   acceleration  395 non-null    float64\n",
      " 7   model_year    398 non-null    int64  \n",
      " 8   origin        398 non-null    object \n",
      "dtypes: float64(6), int64(1), object(2)\n",
      "memory usage: 28.1+ KB\n"
     ]
    },
    {
     "data": {
      "text/plain": [
       "(398, 9)"
      ]
     },
     "execution_count": 18,
     "metadata": {},
     "output_type": "execute_result"
    }
   ],
   "source": [
    "df.info()\n",
    "df.shape"
   ]
  },
  {
   "cell_type": "markdown",
   "id": "5e3199a3-53be-4b3e-8377-1a4f004464c7",
   "metadata": {
    "id": "5e3199a3-53be-4b3e-8377-1a4f004464c7"
   },
   "source": [
    "#### The method isnull() checks each element in the DataFrame (or Series) to see if it is NaN (Not a Number) or None (missing value).\n",
    "It returns a DataFrame (or Series) of the same shape as the input, with Boolean values:\n",
    "#### True: The value is null (NaN or None).\n",
    "#### False: The value is not null."
   ]
  },
  {
   "cell_type": "code",
   "execution_count": 19,
   "id": "e39c2d2f-5d43-47b5-9a55-a6d7de8042b4",
   "metadata": {
    "id": "e39c2d2f-5d43-47b5-9a55-a6d7de8042b4",
    "outputId": "05454768-917f-4c8a-f934-22c665a59cb1"
   },
   "outputs": [
    {
     "data": {
      "text/plain": [
       "name             0\n",
       "mpg              0\n",
       "cylinders        3\n",
       "displacement     3\n",
       "horsepower      12\n",
       "weight           2\n",
       "acceleration     3\n",
       "model_year       0\n",
       "origin           0\n",
       "dtype: int64"
      ]
     },
     "execution_count": 19,
     "metadata": {},
     "output_type": "execute_result"
    }
   ],
   "source": [
    "df.isnull().sum()"
   ]
  },
  {
   "cell_type": "markdown",
   "id": "a9eab167-59db-444c-914b-babf9b4787b4",
   "metadata": {
    "id": "a9eab167-59db-444c-914b-babf9b4787b4"
   },
   "source": [
    "#### Step 4: Handle Missing Data\n",
    "#### Option 1: If the dataset is large and only a small percentage of data is missing, you can remove rows with missing values using dropna(subset,inplace)\n"
   ]
  },
  {
   "cell_type": "code",
   "execution_count": 20,
   "id": "4f2b7dd2-f510-4845-81e9-0490a1067a0b",
   "metadata": {
    "id": "4f2b7dd2-f510-4845-81e9-0490a1067a0b",
    "outputId": "6106dfa3-8279-4666-fa60-43453e810a11"
   },
   "outputs": [
    {
     "name": "stdout",
     "output_type": "stream",
     "text": [
      "<class 'pandas.core.frame.DataFrame'>\n",
      "Index: 386 entries, 0 to 397\n",
      "Data columns (total 9 columns):\n",
      " #   Column        Non-Null Count  Dtype  \n",
      "---  ------        --------------  -----  \n",
      " 0   name          386 non-null    object \n",
      " 1   mpg           386 non-null    float64\n",
      " 2   cylinders     383 non-null    float64\n",
      " 3   displacement  383 non-null    float64\n",
      " 4   horsepower    386 non-null    float64\n",
      " 5   weight        384 non-null    float64\n",
      " 6   acceleration  384 non-null    float64\n",
      " 7   model_year    386 non-null    int64  \n",
      " 8   origin        386 non-null    object \n",
      "dtypes: float64(6), int64(1), object(2)\n",
      "memory usage: 30.2+ KB\n"
     ]
    }
   ],
   "source": [
    "df.dropna(subset=[\"horsepower\"], inplace=True)\n",
    "df.info()"
   ]
  },
  {
   "cell_type": "markdown",
   "id": "a1225761-3c2c-42ad-bac1-967483ea586c",
   "metadata": {
    "id": "a1225761-3c2c-42ad-bac1-967483ea586c"
   },
   "source": [
    "#### Option 2:If removing data isn't ideal, you can impute (df.[\"\"].fillna(df[\"\"].mean(),inplace)) missing values using methods like mean, median, or most frequent."
   ]
  },
  {
   "cell_type": "code",
   "execution_count": 21,
   "id": "8f07f657-0e3d-488f-9d75-495a427483b1",
   "metadata": {
    "id": "8f07f657-0e3d-488f-9d75-495a427483b1",
    "outputId": "e7853abc-0ee2-49a6-ffa8-b9f4a1d647f0"
   },
   "outputs": [
    {
     "name": "stdout",
     "output_type": "stream",
     "text": [
      "<class 'pandas.core.frame.DataFrame'>\n",
      "Index: 386 entries, 0 to 397\n",
      "Data columns (total 9 columns):\n",
      " #   Column        Non-Null Count  Dtype  \n",
      "---  ------        --------------  -----  \n",
      " 0   name          386 non-null    object \n",
      " 1   mpg           386 non-null    float64\n",
      " 2   cylinders     386 non-null    float64\n",
      " 3   displacement  383 non-null    float64\n",
      " 4   horsepower    386 non-null    float64\n",
      " 5   weight        386 non-null    float64\n",
      " 6   acceleration  384 non-null    float64\n",
      " 7   model_year    386 non-null    int64  \n",
      " 8   origin        386 non-null    object \n",
      "dtypes: float64(6), int64(1), object(2)\n",
      "memory usage: 30.2+ KB\n"
     ]
    },
    {
     "name": "stderr",
     "output_type": "stream",
     "text": [
      "C:\\Users\\HP\\AppData\\Local\\Temp\\ipykernel_476\\1464298103.py:1: FutureWarning: A value is trying to be set on a copy of a DataFrame or Series through chained assignment using an inplace method.\n",
      "The behavior will change in pandas 3.0. This inplace method will never work because the intermediate object on which we are setting values always behaves as a copy.\n",
      "\n",
      "For example, when doing 'df[col].method(value, inplace=True)', try using 'df.method({col: value}, inplace=True)' or df[col] = df[col].method(value) instead, to perform the operation inplace on the original object.\n",
      "\n",
      "\n",
      "  df[\"cylinders\"].fillna(df[\"displacement\"].mean(), inplace=True)\n",
      "C:\\Users\\HP\\AppData\\Local\\Temp\\ipykernel_476\\1464298103.py:2: FutureWarning: A value is trying to be set on a copy of a DataFrame or Series through chained assignment using an inplace method.\n",
      "The behavior will change in pandas 3.0. This inplace method will never work because the intermediate object on which we are setting values always behaves as a copy.\n",
      "\n",
      "For example, when doing 'df[col].method(value, inplace=True)', try using 'df.method({col: value}, inplace=True)' or df[col] = df[col].method(value) instead, to perform the operation inplace on the original object.\n",
      "\n",
      "\n",
      "  df[\"weight\"].fillna(df[\"acceleration\"].mean(), inplace=True)\n"
     ]
    }
   ],
   "source": [
    "df[\"cylinders\"].fillna(df[\"displacement\"].mean(), inplace=True)\n",
    "df[\"weight\"].fillna(df[\"acceleration\"].mean(), inplace=True)\n",
    "df.info()"
   ]
  },
  {
   "cell_type": "markdown",
   "id": "2edcbe50-a598-4d95-9245-124563d11103",
   "metadata": {
    "id": "2edcbe50-a598-4d95-9245-124563d11103"
   },
   "source": [
    "#### Step 5: Feature Scaling\n",
    "\n",
    "\n",
    "<img src=\"https://i.postimg.cc/G21gMYnF/f.png\" alt=\"Image Description\" width=\"500\">\n",
    "\n",
    "\n",
    "\n",
    "\n",
    "\n",
    "\n",
    "\n",
    "\n",
    "\n",
    " Option 1: This method scales the data to have a mean of 0 and a standard deviation of 1.\n",
    "### StandardScaler()"
   ]
  },
  {
   "cell_type": "code",
   "execution_count": 22,
   "id": "efd8eb42-ccf7-4867-9772-d914b3504b39",
   "metadata": {
    "id": "efd8eb42-ccf7-4867-9772-d914b3504b39",
    "outputId": "cafbc0e6-cf27-45ae-b4dd-f4ed0ba57155"
   },
   "outputs": [
    {
     "data": {
      "text/html": [
       "<div>\n",
       "<style scoped>\n",
       "    .dataframe tbody tr th:only-of-type {\n",
       "        vertical-align: middle;\n",
       "    }\n",
       "\n",
       "    .dataframe tbody tr th {\n",
       "        vertical-align: top;\n",
       "    }\n",
       "\n",
       "    .dataframe thead th {\n",
       "        text-align: right;\n",
       "    }\n",
       "</style>\n",
       "<table border=\"1\" class=\"dataframe\">\n",
       "  <thead>\n",
       "    <tr style=\"text-align: right;\">\n",
       "      <th></th>\n",
       "      <th>name</th>\n",
       "      <th>mpg</th>\n",
       "      <th>cylinders</th>\n",
       "      <th>displacement</th>\n",
       "      <th>horsepower</th>\n",
       "      <th>weight</th>\n",
       "      <th>acceleration</th>\n",
       "      <th>model_year</th>\n",
       "      <th>origin</th>\n",
       "    </tr>\n",
       "  </thead>\n",
       "  <tbody>\n",
       "    <tr>\n",
       "      <th>0</th>\n",
       "      <td>chevrolet chevelle malibu</td>\n",
       "      <td>18.0</td>\n",
       "      <td>0.065096</td>\n",
       "      <td>1.087102</td>\n",
       "      <td>0.675237</td>\n",
       "      <td>0.632412</td>\n",
       "      <td>12.0</td>\n",
       "      <td>70</td>\n",
       "      <td>usa</td>\n",
       "    </tr>\n",
       "    <tr>\n",
       "      <th>1</th>\n",
       "      <td>buick skylark 320</td>\n",
       "      <td>15.0</td>\n",
       "      <td>0.065096</td>\n",
       "      <td>1.499934</td>\n",
       "      <td>1.595396</td>\n",
       "      <td>0.850166</td>\n",
       "      <td>11.5</td>\n",
       "      <td>70</td>\n",
       "      <td>usa</td>\n",
       "    </tr>\n",
       "    <tr>\n",
       "      <th>2</th>\n",
       "      <td>plymouth satellite</td>\n",
       "      <td>18.0</td>\n",
       "      <td>0.065096</td>\n",
       "      <td>1.192710</td>\n",
       "      <td>1.201042</td>\n",
       "      <td>0.554067</td>\n",
       "      <td>11.0</td>\n",
       "      <td>70</td>\n",
       "      <td>usa</td>\n",
       "    </tr>\n",
       "    <tr>\n",
       "      <th>3</th>\n",
       "      <td>amc rebel sst</td>\n",
       "      <td>16.0</td>\n",
       "      <td>0.065096</td>\n",
       "      <td>1.058300</td>\n",
       "      <td>1.201042</td>\n",
       "      <td>0.550610</td>\n",
       "      <td>12.0</td>\n",
       "      <td>70</td>\n",
       "      <td>usa</td>\n",
       "    </tr>\n",
       "    <tr>\n",
       "      <th>4</th>\n",
       "      <td>ford torino</td>\n",
       "      <td>17.0</td>\n",
       "      <td>11.240292</td>\n",
       "      <td>1.039098</td>\n",
       "      <td>0.938140</td>\n",
       "      <td>0.569045</td>\n",
       "      <td>10.5</td>\n",
       "      <td>70</td>\n",
       "      <td>usa</td>\n",
       "    </tr>\n",
       "  </tbody>\n",
       "</table>\n",
       "</div>"
      ],
      "text/plain": [
       "                        name   mpg  cylinders  displacement  horsepower  \\\n",
       "0  chevrolet chevelle malibu  18.0   0.065096      1.087102    0.675237   \n",
       "1          buick skylark 320  15.0   0.065096      1.499934    1.595396   \n",
       "2         plymouth satellite  18.0   0.065096      1.192710    1.201042   \n",
       "3              amc rebel sst  16.0   0.065096      1.058300    1.201042   \n",
       "4                ford torino  17.0  11.240292      1.039098    0.938140   \n",
       "\n",
       "     weight  acceleration  model_year origin  \n",
       "0  0.632412          12.0          70    usa  \n",
       "1  0.850166          11.5          70    usa  \n",
       "2  0.554067          11.0          70    usa  \n",
       "3  0.550610          12.0          70    usa  \n",
       "4  0.569045          10.5          70    usa  "
      ]
     },
     "execution_count": 22,
     "metadata": {},
     "output_type": "execute_result"
    }
   ],
   "source": [
    "c=[\"cylinders\",\"displacement\",\"horsepower\",\"weight\"]\n",
    "sc1=StandardScaler()\n",
    "df[c]=sc1.fit_transform(df[c])\n",
    "df.head()\n"
   ]
  },
  {
   "cell_type": "markdown",
   "id": "d8974447-b707-4b00-bc1b-f395c6167345",
   "metadata": {
    "id": "d8974447-b707-4b00-bc1b-f395c6167345"
   },
   "source": [
    "#### Option 2:This method scales the data to a fixed range, usually between 0 and 1. \n",
    "###  MinMaxScaler()"
   ]
  },
  {
   "cell_type": "code",
   "execution_count": 25,
   "id": "c446eae2-f4af-4ab1-8b43-0e347581e9a8",
   "metadata": {
    "id": "c446eae2-f4af-4ab1-8b43-0e347581e9a8",
    "outputId": "5951acaf-3dc0-48f5-a6d8-0212ee4970ee"
   },
   "outputs": [
    {
     "data": {
      "text/html": [
       "<div>\n",
       "<style scoped>\n",
       "    .dataframe tbody tr th:only-of-type {\n",
       "        vertical-align: middle;\n",
       "    }\n",
       "\n",
       "    .dataframe tbody tr th {\n",
       "        vertical-align: top;\n",
       "    }\n",
       "\n",
       "    .dataframe thead th {\n",
       "        text-align: right;\n",
       "    }\n",
       "</style>\n",
       "<table border=\"1\" class=\"dataframe\">\n",
       "  <thead>\n",
       "    <tr style=\"text-align: right;\">\n",
       "      <th></th>\n",
       "      <th>name</th>\n",
       "      <th>mpg</th>\n",
       "      <th>cylinders</th>\n",
       "      <th>displacement</th>\n",
       "      <th>horsepower</th>\n",
       "      <th>weight</th>\n",
       "      <th>acceleration</th>\n",
       "      <th>model_year</th>\n",
       "      <th>origin</th>\n",
       "    </tr>\n",
       "  </thead>\n",
       "  <tbody>\n",
       "    <tr>\n",
       "      <th>0</th>\n",
       "      <td>chevrolet chevelle malibu</td>\n",
       "      <td>18.0</td>\n",
       "      <td>0.02621</td>\n",
       "      <td>0.617571</td>\n",
       "      <td>0.456522</td>\n",
       "      <td>0.680747</td>\n",
       "      <td>12.0</td>\n",
       "      <td>70</td>\n",
       "      <td>usa</td>\n",
       "    </tr>\n",
       "    <tr>\n",
       "      <th>1</th>\n",
       "      <td>buick skylark 320</td>\n",
       "      <td>15.0</td>\n",
       "      <td>0.02621</td>\n",
       "      <td>0.728682</td>\n",
       "      <td>0.646739</td>\n",
       "      <td>0.717629</td>\n",
       "      <td>11.5</td>\n",
       "      <td>70</td>\n",
       "      <td>usa</td>\n",
       "    </tr>\n",
       "    <tr>\n",
       "      <th>2</th>\n",
       "      <td>plymouth satellite</td>\n",
       "      <td>18.0</td>\n",
       "      <td>0.02621</td>\n",
       "      <td>0.645995</td>\n",
       "      <td>0.565217</td>\n",
       "      <td>0.667477</td>\n",
       "      <td>11.0</td>\n",
       "      <td>70</td>\n",
       "      <td>usa</td>\n",
       "    </tr>\n",
       "    <tr>\n",
       "      <th>3</th>\n",
       "      <td>amc rebel sst</td>\n",
       "      <td>16.0</td>\n",
       "      <td>0.02621</td>\n",
       "      <td>0.609819</td>\n",
       "      <td>0.565217</td>\n",
       "      <td>0.666892</td>\n",
       "      <td>12.0</td>\n",
       "      <td>70</td>\n",
       "      <td>usa</td>\n",
       "    </tr>\n",
       "    <tr>\n",
       "      <th>4</th>\n",
       "      <td>ford torino</td>\n",
       "      <td>17.0</td>\n",
       "      <td>1.00000</td>\n",
       "      <td>0.604651</td>\n",
       "      <td>0.510870</td>\n",
       "      <td>0.670014</td>\n",
       "      <td>10.5</td>\n",
       "      <td>70</td>\n",
       "      <td>usa</td>\n",
       "    </tr>\n",
       "  </tbody>\n",
       "</table>\n",
       "</div>"
      ],
      "text/plain": [
       "                        name   mpg  cylinders  displacement  horsepower  \\\n",
       "0  chevrolet chevelle malibu  18.0    0.02621      0.617571    0.456522   \n",
       "1          buick skylark 320  15.0    0.02621      0.728682    0.646739   \n",
       "2         plymouth satellite  18.0    0.02621      0.645995    0.565217   \n",
       "3              amc rebel sst  16.0    0.02621      0.609819    0.565217   \n",
       "4                ford torino  17.0    1.00000      0.604651    0.510870   \n",
       "\n",
       "     weight  acceleration  model_year origin  \n",
       "0  0.680747          12.0          70    usa  \n",
       "1  0.717629          11.5          70    usa  \n",
       "2  0.667477          11.0          70    usa  \n",
       "3  0.666892          12.0          70    usa  \n",
       "4  0.670014          10.5          70    usa  "
      ]
     },
     "execution_count": 25,
     "metadata": {},
     "output_type": "execute_result"
    }
   ],
   "source": [
    "d=[\"cylinders\",\"displacement\",\"horsepower\",\"weight\"]\n",
    "sc2=MinMaxScaler()\n",
    "df[d]=sc2.fit_transform(df[d])\n",
    "df.head()"
   ]
  },
  {
   "cell_type": "markdown",
   "id": "7b341c0e-7aa3-48c3-84c4-9ef8a5139fad",
   "metadata": {
    "id": "7b341c0e-7aa3-48c3-84c4-9ef8a5139fad"
   },
   "source": [
    "####  Step 6:Separate the dataset into features (X) and target (y) variables. The target is usually the column you want to predict."
   ]
  },
  {
   "cell_type": "code",
   "execution_count": 26,
   "id": "3b19d23c-5efe-4615-8c4d-63d435d94b25",
   "metadata": {
    "id": "3b19d23c-5efe-4615-8c4d-63d435d94b25"
   },
   "outputs": [
    {
     "data": {
      "text/plain": [
       "0    0.456522\n",
       "1    0.646739\n",
       "2    0.565217\n",
       "3    0.565217\n",
       "4    0.510870\n",
       "Name: horsepower, dtype: float64"
      ]
     },
     "execution_count": 26,
     "metadata": {},
     "output_type": "execute_result"
    }
   ],
   "source": [
    "x=df[[\"mpg\", \"cylinders\",\"displacement\",\"weight\",\"acceleration\",\"model_year\"]]\n",
    "y=df[\"horsepower\"]\n",
    "y.head()"
   ]
  },
  {
   "cell_type": "markdown",
   "id": "88524422-4dcc-4cb0-9cb7-d9b4d8ab851a",
   "metadata": {
    "id": "88524422-4dcc-4cb0-9cb7-d9b4d8ab851a"
   },
   "source": [
    "\n",
    "### Step 7: After preprocessing, save the cleaned and scaled dataset to a new CSV file\n"
   ]
  },
  {
   "cell_type": "code",
   "execution_count": 30,
   "id": "7865e017-a250-49a0-8a8c-0087e7c8c272",
   "metadata": {},
   "outputs": [],
   "source": [
    "final=pd.concat([x,y],axis=1)\n",
    "final.to_csv(\"Automobile.csv\",index=False)"
   ]
  },
  {
   "cell_type": "code",
   "execution_count": 12,
   "id": "nvnJZfIFDexK",
   "metadata": {
    "id": "nvnJZfIFDexK"
   },
   "outputs": [],
   "source": [
    "# Lab-1 Activities\n",
    "\n",
    "#Perform data preprocesing for Automobile.csv\n",
    "\n",
    "#i. Delete the column horsepower since it has few missing values\n",
    "\n",
    "#ii. Impute missing with meadin\n",
    "\n",
    "#iii. Apply min-max scaling and standardization on the Automobiles.csv and provide the reasoning which feature scaling method make more sense to this dataset."
   ]
  }
 ],
 "metadata": {
  "colab": {
   "provenance": []
  },
  "kernelspec": {
   "display_name": "Python [conda env:base] *",
   "language": "python",
   "name": "conda-base-py"
  },
  "language_info": {
   "codemirror_mode": {
    "name": "ipython",
    "version": 3
   },
   "file_extension": ".py",
   "mimetype": "text/x-python",
   "name": "python",
   "nbconvert_exporter": "python",
   "pygments_lexer": "ipython3",
   "version": "3.13.5"
  }
 },
 "nbformat": 4,
 "nbformat_minor": 5
}
